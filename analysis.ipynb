{
 "cells": [
  {
   "cell_type": "code",
   "execution_count": null,
   "metadata": {},
   "outputs": [],
   "source": [
    "import pandas as pd\n",
    "import pingouin as pg\n",
    "from scipy.stats import shapiro"
   ]
  },
  {
   "cell_type": "markdown",
   "metadata": {},
   "source": [
    "# Load data"
   ]
  },
  {
   "cell_type": "code",
   "execution_count": null,
   "metadata": {},
   "outputs": [],
   "source": [
    "cols = ['Gender', 'Age', 'Experience', 'Experience_expl', 'Version1', 'V1_chars_1', 'V1_chars_2', 'V1_chars_3',\n",
    "       'V1_chars_4', 'V1_chars_5', 'V1_chars_6', 'V1_chars_7', 'V1_chars_8', 'V1_chars_9', 'V1_chars_10', 'V1_chars_11', 'V1_chars_12',\n",
    "       'V1_chars_13', 'V1_chars_14', 'V1_chars_15', 'V1_chars_16', 'V1_chars_17', 'V1_chars_18', 'V1_anthropomophism_1',\n",
    "       'V1_anthropomophism_2', 'V1_usability_1', 'V1_usability_2', 'V1_safety_1', 'V1_emotion_1', 'V1_emotion_2', 'V1_emotion_3',\n",
    "       'V1_social_1', 'Version2', 'V2_chars_1', 'V2_chars_2', 'V2_chars_3', 'V2_chars_4', 'V2_chars_5', 'V2_chars_6', 'V2_chars_7', 'V2_chars_8',\n",
    "       'V2_chars_9', 'V2_chars_10', 'V2_chars_11', 'V2_chars_12', 'V2_chars_13', 'V2_chars_14', 'V2_chars_15', 'V2_chars_16',\n",
    "       'V2_chars_17', 'V2_chars_18', 'V2_anthtopomorphism_1', 'V2_anthtopomorphism_2', 'V2_usability_1', 'V2_usability_2',\n",
    "       'V2_trust_1', 'V2_emotion_1', 'V2_emotion_2', 'V2_emotion_3', 'V2_social_1', 'RandomID']\n",
    "raw = pd.read_csv('HRI testing_17 December 2024_10.48.csv', usecols=cols)\n",
    "raw"
   ]
  },
  {
   "cell_type": "code",
   "execution_count": null,
   "metadata": {},
   "outputs": [],
   "source": [
    "raw.columns"
   ]
  },
  {
   "cell_type": "markdown",
   "metadata": {},
   "source": [
    "## Extract participant data"
   ]
  },
  {
   "cell_type": "code",
   "execution_count": null,
   "metadata": {},
   "outputs": [],
   "source": [
    "cols = ['RandomID', 'Gender', 'Age', 'Experience', 'Experience_expl']\n",
    "participants = raw[cols].iloc[2:]\n",
    "participants"
   ]
  },
  {
   "cell_type": "markdown",
   "metadata": {},
   "source": [
    "## Extract experiment data"
   ]
  },
  {
   "cell_type": "code",
   "execution_count": null,
   "metadata": {},
   "outputs": [],
   "source": [
    "cols = ['RandomID', 'version',\n",
    "        'chars_1', 'chars_2', 'chars_3', 'chars_4', 'chars_5', 'chars_6', 'chars_7', 'chars_8', 'chars_9', 'chars_10', 'chars_11', 'chars_12', 'chars_13', 'chars_14', 'chars_15', 'chars_16', 'chars_17', 'chars_18',\n",
    "        'anthropomophism_1', 'anthropomophism_2', 'usability_1', 'usability_2', 'safety_1', 'emotion_1', 'emotion_2', 'emotion_3', 'social_1']\n",
    "cols1 = ['RandomID', 'Version1',\n",
    "         'V1_chars_1', 'V1_chars_2', 'V1_chars_3', 'V1_chars_4', 'V1_chars_5', 'V1_chars_6', 'V1_chars_7', 'V1_chars_8', 'V1_chars_9', 'V1_chars_10', 'V1_chars_11', 'V1_chars_12', 'V1_chars_13', 'V1_chars_14', 'V1_chars_15', 'V1_chars_16', 'V1_chars_17', 'V1_chars_18',\n",
    "         'V1_anthropomophism_1', 'V1_anthropomophism_2', 'V1_usability_1', 'V1_usability_2', 'V1_safety_1', 'V1_emotion_1', 'V1_emotion_2', 'V1_emotion_3', 'V1_social_1']\n",
    "cols2 = ['RandomID', 'Version2',\n",
    "         'V2_chars_1', 'V2_chars_2', 'V2_chars_3', 'V2_chars_4', 'V2_chars_5', 'V2_chars_6', 'V2_chars_7', 'V2_chars_8', 'V2_chars_9', 'V2_chars_10', 'V2_chars_11', 'V2_chars_12', 'V2_chars_13', 'V2_chars_14', 'V2_chars_15', 'V2_chars_16', 'V2_chars_17', 'V2_chars_18',\n",
    "         'V2_anthtopomorphism_1', 'V2_anthtopomorphism_2', 'V2_usability_1', 'V2_usability_2', 'V2_trust_1', 'V2_emotion_1', 'V2_emotion_2', 'V2_emotion_3', 'V2_social_1']\n",
    "\n",
    "exp1 = raw[cols1].iloc[2:]\n",
    "exp2 = raw[cols2].iloc[2:]\n",
    "\n",
    "exp1.columns = cols\n",
    "exp2.columns = cols\n",
    "\n",
    "exps = pd.concat([exp1, exp2]).reset_index()\n",
    "exps"
   ]
  },
  {
   "cell_type": "markdown",
   "metadata": {},
   "source": [
    "### Extract data for each experiment"
   ]
  },
  {
   "cell_type": "code",
   "execution_count": null,
   "metadata": {},
   "outputs": [],
   "source": [
    "versionA = exps[exps['version']=='Version A'].reset_index()\n",
    "versionA"
   ]
  },
  {
   "cell_type": "code",
   "execution_count": null,
   "metadata": {},
   "outputs": [],
   "source": [
    "versionB = exps[exps['version']=='Version B'].reset_index()\n",
    "versionB"
   ]
  },
  {
   "cell_type": "markdown",
   "metadata": {},
   "source": [
    "# Calculate scores"
   ]
  },
  {
   "cell_type": "markdown",
   "metadata": {},
   "source": [
    "* Warmth = feeling, happy, organic, compassionate, social, and emotional = char_1 + char_2 + char_3 + char_4 + char_5 + char_6\n",
    "* Competence = knowledgeable, interactive, responsive, capable, competent, and reliable = char_7 + char_8 + char_9 + char_10 + char_11 + char_12\n",
    "* Discomfort = aggressive, awful, scary, awkward, dangerous, and strange = char_13 + char_14 + char_15 + char_16 + char_17 + char_18"
   ]
  },
  {
   "cell_type": "code",
   "execution_count": null,
   "metadata": {},
   "outputs": [],
   "source": [
    "cols = ['RandomID', 'chars_1', 'chars_2', 'chars_3', 'chars_4', 'chars_5', 'chars_6', 'chars_7', 'chars_8', 'chars_9', 'chars_10', 'chars_11', 'chars_12', 'chars_13', 'chars_14', 'chars_15', 'chars_16', 'chars_17', 'chars_18']\n",
    "chars = pd.concat([exps['version'], exps[cols].astype('int64')], axis=1)\n",
    "chars"
   ]
  },
  {
   "cell_type": "code",
   "execution_count": null,
   "metadata": {},
   "outputs": [],
   "source": [
    "warmth_cols = ['chars_1', 'chars_2', 'chars_3', 'chars_4', 'chars_5', 'chars_6']\n",
    "competence_cols = ['chars_7', 'chars_8', 'chars_9', 'chars_10', 'chars_11', 'chars_12']\n",
    "discomfort_cols = ['chars_13', 'chars_14', 'chars_15', 'chars_16', 'chars_17', 'chars_18']"
   ]
  },
  {
   "cell_type": "markdown",
   "metadata": {},
   "source": [
    "more"
   ]
  },
  {
   "cell_type": "code",
   "execution_count": null,
   "metadata": {},
   "outputs": [],
   "source": [
    "cols = ['anthropomophism_1', 'anthropomophism_2', 'usability_1', 'usability_2', 'safety_1', 'emotion_1', 'emotion_2', 'emotion_3', 'social_1']\n",
    "exps[cols]"
   ]
  },
  {
   "cell_type": "code",
   "execution_count": null,
   "metadata": {},
   "outputs": [],
   "source": [
    "replacer = {'Strongly disagree': 1,\n",
    "            'Somewhat disagree': 2,\n",
    "            'Neither agree nor disagree': 3,\n",
    "            'Somewhat agree': 4,\n",
    "            'Strongly agree': 5}\n",
    "\n",
    "features = exps[cols].replace(replacer)\n",
    "features"
   ]
  },
  {
   "cell_type": "code",
   "execution_count": null,
   "metadata": {},
   "outputs": [],
   "source": [
    "anthropomorphism_cols = ['anthropomophism_1', 'anthropomophism_2']\n",
    "usability_cols = ['usability_1', 'usability_2']\n",
    "safety_cols = ['safety_1']\n",
    "emotion_cols = ['emotion_1', 'emotion_2', 'emotion_3']\n",
    "social_cols = ['social_1']"
   ]
  },
  {
   "cell_type": "markdown",
   "metadata": {},
   "source": [
    "# Descriptive statistics"
   ]
  },
  {
   "cell_type": "markdown",
   "metadata": {},
   "source": [
    "## Cronbach's alpha"
   ]
  },
  {
   "cell_type": "code",
   "execution_count": null,
   "metadata": {},
   "outputs": [],
   "source": [
    "cronbach = pd.DataFrame()\n",
    "         \n",
    "# cronbach['version'] = chars['version']\n",
    "# cronbach['RandomID'] = chars['RandomID']\n",
    "cronbach['warmth'] = pg.cronbach_alpha(data=chars[warmth_cols])\n",
    "cronbach['competence'] = pg.cronbach_alpha(data=chars[competence_cols])\n",
    "cronbach['discomfort'] = pg.cronbach_alpha(data=chars[discomfort_cols])\n",
    "\n",
    "cronbach"
   ]
  },
  {
   "cell_type": "markdown",
   "metadata": {},
   "source": [
    "## Mean, sd"
   ]
  },
  {
   "cell_type": "code",
   "execution_count": null,
   "metadata": {},
   "outputs": [],
   "source": [
    "scores = pd.DataFrame()\n",
    "\n",
    "scores['version'] = chars['version']\n",
    "scores['RandomID'] = chars['RandomID']\n",
    "scores['warmth'] = chars[warmth_cols].mean(axis=1)\n",
    "scores['warmth_std'] = chars[warmth_cols].std(axis=1)\n",
    "scores['competence'] = chars[competence_cols].mean(axis=1)\n",
    "scores['competence_std'] = chars[competence_cols].std(axis=1)\n",
    "scores['discomfort'] = chars[discomfort_cols].mean(axis=1)\n",
    "scores['discomfort_std'] = chars[discomfort_cols].std(axis=1)\n",
    "\n",
    "scores['anthropomorphism'] = features[anthropomorphism_cols].mean(axis=1)\n",
    "scores['anthropomorphism_std'] = features[anthropomorphism_cols].std(axis=1)\n",
    "scores['usability'] = features[usability_cols].mean(axis=1)\n",
    "scores['usability_std'] = features[usability_cols].std(axis=1)\n",
    "scores['safety'] = features[safety_cols].mean(axis=1)\n",
    "scores['safety_std'] = features[safety_cols].std(axis=1)\n",
    "scores['emotion'] = features[emotion_cols].mean(axis=1)\n",
    "scores['emotion_std'] = features[emotion_cols].std(axis=1)\n",
    "scores['social'] = features[social_cols].mean(axis=1)\n",
    "scores['social_std'] = features[social_cols].std(axis=1)\n",
    "\n",
    "scores"
   ]
  },
  {
   "cell_type": "markdown",
   "metadata": {},
   "source": [
    "## Participants"
   ]
  },
  {
   "cell_type": "code",
   "execution_count": null,
   "metadata": {},
   "outputs": [],
   "source": [
    "parts = pd.DataFrame()\n",
    "\n",
    "parts['age_avg'] = [participants['Age'].astype('int64').mean()]\n",
    "parts['gender_male'] = [len(participants[participants['Gender'] == 'Male'])]\n",
    "parts['gender_female'] = [len(participants[participants['Gender'] == 'Female'])]\n",
    "parts['gender_non_binary'] = [len(participants[participants['Gender'] == 'Non-binary'])]\n",
    "parts['gender_other'] = [len(participants[participants['Gender'] == 'Other'])]\n",
    "parts['gender_no'] = [len(participants[participants['Gender'] == 'Prefer not to say'])]\n",
    "\n",
    "parts"
   ]
  },
  {
   "cell_type": "code",
   "execution_count": null,
   "metadata": {},
   "outputs": [],
   "source": [
    "gender = participants['Gender'].value_counts()\n",
    "gender.plot.pie(ylabel='', title = 'Gender')"
   ]
  },
  {
   "cell_type": "code",
   "execution_count": null,
   "metadata": {},
   "outputs": [],
   "source": [
    "experience = participants['Experience'].value_counts()\n",
    "experience.plot.pie(ylabel='', title = 'Experience')"
   ]
  },
  {
   "cell_type": "markdown",
   "metadata": {},
   "source": [
    "# Normaal verdeeld?"
   ]
  },
  {
   "cell_type": "markdown",
   "metadata": {},
   "source": [
    "* Test Statistic (W): A value of W close to 1 indicates that the data is likely normally distributed.\n",
    "* P-Value: The p-value helps you determine whether to reject the null hypothesis of normality. A common threshold is 0.05:\n",
    "    * If the p-value is less than 0.05, you reject the null hypothesis, suggesting your data is not normally distributed. --> kan nog proberen je data te transformeren (log, etc.)\n",
    "    * If the p-value is greater than 0.05, you do not reject the null hypothesis, indicating that your data do not significantly deviate from a normal distribution.\n",
    "\n",
    "https://medium.com/@maizi5469/10-0-shapiro-wilk-test-5be38fd3c2a6"
   ]
  },
  {
   "cell_type": "code",
   "execution_count": null,
   "metadata": {},
   "outputs": [],
   "source": [
    "# For each variable check normal distribution for each version\n",
    "cols = ['chars_1', 'chars_2', 'chars_3', 'chars_4', 'chars_5', 'chars_6', 'chars_7', 'chars_8', 'chars_9', 'chars_10', 'chars_11', 'chars_12', 'chars_13', 'chars_14', 'chars_15', 'chars_16', 'chars_17', 'chars_18',\n",
    "        'anthropomophism_1', 'anthropomophism_2', 'usability_1', 'usability_2', 'safety_1', 'emotion_1', 'emotion_2', 'emotion_3', 'social_1']\n",
    "print('version A')\n",
    "for col in cols:\n",
    "    shap = shapiro(exps[exps['version'] == 'Version A'][col])\n",
    "    print(f'{col}: {shap.statistic}, p={shap.pvalue}')"
   ]
  },
  {
   "cell_type": "code",
   "execution_count": null,
   "metadata": {},
   "outputs": [],
   "source": [
    "print('version B')\n",
    "for col in cols:\n",
    "    shap = shapiro(exps[exps['version'] == 'Version B'][col])\n",
    "    print(f'{col}: {shap.statistic}, p={shap.pvalue}')"
   ]
  },
  {
   "cell_type": "markdown",
   "metadata": {},
   "source": [
    "# Significantie"
   ]
  },
  {
   "cell_type": "code",
   "execution_count": null,
   "metadata": {},
   "outputs": [],
   "source": []
  },
  {
   "cell_type": "markdown",
   "metadata": {},
   "source": [
    "# Verdere analyse?"
   ]
  }
 ],
 "metadata": {
  "kernelspec": {
   "display_name": "AI",
   "language": "python",
   "name": "python3"
  },
  "language_info": {
   "codemirror_mode": {
    "name": "ipython",
    "version": 3
   },
   "file_extension": ".py",
   "mimetype": "text/x-python",
   "name": "python",
   "nbconvert_exporter": "python",
   "pygments_lexer": "ipython3",
   "version": "3.12.2"
  }
 },
 "nbformat": 4,
 "nbformat_minor": 2
}
